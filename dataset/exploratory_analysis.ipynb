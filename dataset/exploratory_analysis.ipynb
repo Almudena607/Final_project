{
 "cells": [
  {
   "cell_type": "markdown",
   "id": "9edab053",
   "metadata": {},
   "source": [
    "# 1. Loading the dataset"
   ]
  },
  {
   "cell_type": "code",
   "execution_count": 1,
   "id": "62e32998",
   "metadata": {},
   "outputs": [],
   "source": [
    "import os\n",
    "import glob\n",
    "import numpy as np\n",
    "import pandas as pd"
   ]
  },
  {
   "cell_type": "code",
   "execution_count": 2,
   "id": "a838a374",
   "metadata": {},
   "outputs": [
    {
     "data": {
      "text/plain": [
       "'/home/almudenaramirez607/Final_project/dataset'"
      ]
     },
     "execution_count": 2,
     "metadata": {},
     "output_type": "execute_result"
    }
   ],
   "source": [
    "dataset_path =  os.path.abspath(\".\")\n",
    "dataset_path"
   ]
  },
  {
   "cell_type": "code",
   "execution_count": 3,
   "id": "935b54f9",
   "metadata": {},
   "outputs": [
    {
     "data": {
      "text/plain": [
       "array(['/home/almudenaramirez607/Final_project/dataset/test/20/img2.jpg',\n",
       "       '/home/almudenaramirez607/Final_project/dataset/test/20/d20_top_584.jpg',\n",
       "       '/home/almudenaramirez607/Final_project/dataset/test/20/d20_top_624.jpg',\n",
       "       '/home/almudenaramirez607/Final_project/dataset/test/20/d20_top_520.jpg',\n",
       "       '/home/almudenaramirez607/Final_project/dataset/test/20/d20_top_576.jpg',\n",
       "       '/home/almudenaramirez607/Final_project/dataset/test/20/d20_top_528.jpg',\n",
       "       '/home/almudenaramirez607/Final_project/dataset/test/20/img1.jpg',\n",
       "       '/home/almudenaramirez607/Final_project/dataset/test/20/d20_top_632.jpg',\n",
       "       '/home/almudenaramirez607/Final_project/dataset/test/20/d20_top_608.jpg',\n",
       "       '/home/almudenaramirez607/Final_project/dataset/test/20/d20_top_560.jpg'],\n",
       "      dtype='<U78')"
      ]
     },
     "execution_count": 3,
     "metadata": {},
     "output_type": "execute_result"
    }
   ],
   "source": [
    "# looking for the images (they all are .jpg)\n",
    "globpath = f\"{dataset_path}/**/*.jpg\"\n",
    "\n",
    "# generation of an array with all the pictures\n",
    "pictures = np.hstack([np.array(glob.glob(globpath, recursive = True))])\n",
    "pictures[:10]"
   ]
  },
  {
   "cell_type": "markdown",
   "id": "acd3a1ea",
   "metadata": {},
   "source": [
    "# 2. Normalization of the array and generation of the ground truth "
   ]
  },
  {
   "cell_type": "code",
   "execution_count": 5,
   "id": "5bf03cca",
   "metadata": {},
   "outputs": [],
   "source": [
    "def filename_analysis(filename):\n",
    "    x = filename.split(\"/\")\n",
    "    return {\n",
    "        \"ground_truth\": x[6],\n",
    "        \"type\": x[5],\n",
    "        \"file\": filename\n",
    "    }"
   ]
  },
  {
   "cell_type": "code",
   "execution_count": 6,
   "id": "63338ebf",
   "metadata": {},
   "outputs": [
    {
     "data": {
      "text/plain": [
       "{'ground_truth': '20',\n",
       " 'type': 'test',\n",
       " 'file': '/home/almudenaramirez607/Final_project/dataset/test/20/d20_top_608.jpg'}"
      ]
     },
     "execution_count": 6,
     "metadata": {},
     "output_type": "execute_result"
    }
   ],
   "source": [
    "filename_analysis('/home/almudenaramirez607/Final_project/dataset/test/20/d20_top_608.jpg')"
   ]
  },
  {
   "cell_type": "code",
   "execution_count": 7,
   "id": "5bf057a1",
   "metadata": {},
   "outputs": [],
   "source": [
    "df = pd.DataFrame(list(map(filename_analysis, pictures)))"
   ]
  },
  {
   "cell_type": "code",
   "execution_count": 7,
   "id": "17814683",
   "metadata": {},
   "outputs": [
    {
     "data": {
      "text/html": [
       "<div>\n",
       "<style scoped>\n",
       "    .dataframe tbody tr th:only-of-type {\n",
       "        vertical-align: middle;\n",
       "    }\n",
       "\n",
       "    .dataframe tbody tr th {\n",
       "        vertical-align: top;\n",
       "    }\n",
       "\n",
       "    .dataframe thead th {\n",
       "        text-align: right;\n",
       "    }\n",
       "</style>\n",
       "<table border=\"1\" class=\"dataframe\">\n",
       "  <thead>\n",
       "    <tr style=\"text-align: right;\">\n",
       "      <th></th>\n",
       "      <th>ground_truth</th>\n",
       "      <th>type</th>\n",
       "      <th>file</th>\n",
       "    </tr>\n",
       "  </thead>\n",
       "  <tbody>\n",
       "    <tr>\n",
       "      <th>0</th>\n",
       "      <td>20</td>\n",
       "      <td>test</td>\n",
       "      <td>/home/almudenaramirez607/Final_project/dataset...</td>\n",
       "    </tr>\n",
       "    <tr>\n",
       "      <th>1</th>\n",
       "      <td>20</td>\n",
       "      <td>test</td>\n",
       "      <td>/home/almudenaramirez607/Final_project/dataset...</td>\n",
       "    </tr>\n",
       "    <tr>\n",
       "      <th>2</th>\n",
       "      <td>20</td>\n",
       "      <td>test</td>\n",
       "      <td>/home/almudenaramirez607/Final_project/dataset...</td>\n",
       "    </tr>\n",
       "    <tr>\n",
       "      <th>3</th>\n",
       "      <td>20</td>\n",
       "      <td>test</td>\n",
       "      <td>/home/almudenaramirez607/Final_project/dataset...</td>\n",
       "    </tr>\n",
       "    <tr>\n",
       "      <th>4</th>\n",
       "      <td>20</td>\n",
       "      <td>test</td>\n",
       "      <td>/home/almudenaramirez607/Final_project/dataset...</td>\n",
       "    </tr>\n",
       "    <tr>\n",
       "      <th>...</th>\n",
       "      <td>...</td>\n",
       "      <td>...</td>\n",
       "      <td>...</td>\n",
       "    </tr>\n",
       "    <tr>\n",
       "      <th>4037</th>\n",
       "      <td>3</td>\n",
       "      <td>train</td>\n",
       "      <td>/home/almudenaramirez607/Final_project/dataset...</td>\n",
       "    </tr>\n",
       "    <tr>\n",
       "      <th>4038</th>\n",
       "      <td>3</td>\n",
       "      <td>train</td>\n",
       "      <td>/home/almudenaramirez607/Final_project/dataset...</td>\n",
       "    </tr>\n",
       "    <tr>\n",
       "      <th>4039</th>\n",
       "      <td>3</td>\n",
       "      <td>train</td>\n",
       "      <td>/home/almudenaramirez607/Final_project/dataset...</td>\n",
       "    </tr>\n",
       "    <tr>\n",
       "      <th>4040</th>\n",
       "      <td>3</td>\n",
       "      <td>train</td>\n",
       "      <td>/home/almudenaramirez607/Final_project/dataset...</td>\n",
       "    </tr>\n",
       "    <tr>\n",
       "      <th>4041</th>\n",
       "      <td>3</td>\n",
       "      <td>train</td>\n",
       "      <td>/home/almudenaramirez607/Final_project/dataset...</td>\n",
       "    </tr>\n",
       "  </tbody>\n",
       "</table>\n",
       "<p>4042 rows × 3 columns</p>\n",
       "</div>"
      ],
      "text/plain": [
       "     ground_truth   type                                               file\n",
       "0              20   test  /home/almudenaramirez607/Final_project/dataset...\n",
       "1              20   test  /home/almudenaramirez607/Final_project/dataset...\n",
       "2              20   test  /home/almudenaramirez607/Final_project/dataset...\n",
       "3              20   test  /home/almudenaramirez607/Final_project/dataset...\n",
       "4              20   test  /home/almudenaramirez607/Final_project/dataset...\n",
       "...           ...    ...                                                ...\n",
       "4037            3  train  /home/almudenaramirez607/Final_project/dataset...\n",
       "4038            3  train  /home/almudenaramirez607/Final_project/dataset...\n",
       "4039            3  train  /home/almudenaramirez607/Final_project/dataset...\n",
       "4040            3  train  /home/almudenaramirez607/Final_project/dataset...\n",
       "4041            3  train  /home/almudenaramirez607/Final_project/dataset...\n",
       "\n",
       "[4042 rows x 3 columns]"
      ]
     },
     "execution_count": 7,
     "metadata": {},
     "output_type": "execute_result"
    }
   ],
   "source": [
    "df"
   ]
  },
  {
   "cell_type": "code",
   "execution_count": 8,
   "id": "069c9409",
   "metadata": {},
   "outputs": [
    {
     "data": {
      "text/plain": [
       "train    2738\n",
       "test      388\n",
       "Name: type, dtype: int64"
      ]
     },
     "execution_count": 8,
     "metadata": {},
     "output_type": "execute_result"
    }
   ],
   "source": [
    "df[\"type\"].value_counts()"
   ]
  },
  {
   "cell_type": "code",
   "execution_count": 9,
   "id": "3dd89cd2",
   "metadata": {},
   "outputs": [
    {
     "data": {
      "text/plain": [
       "1     413\n",
       "15    412\n",
       "5     313\n",
       "9     291\n",
       "7     222\n",
       "20    204\n",
       "3     195\n",
       "2     164\n",
       "11    149\n",
       "13    126\n",
       "10    120\n",
       "8      81\n",
       "18     72\n",
       "12     64\n",
       "4      58\n",
       "14     51\n",
       "17     51\n",
       "19     49\n",
       "16     48\n",
       "6      43\n",
       "Name: ground_truth, dtype: int64"
      ]
     },
     "execution_count": 9,
     "metadata": {},
     "output_type": "execute_result"
    }
   ],
   "source": [
    "df[\"ground_truth\"].value_counts()"
   ]
  },
  {
   "cell_type": "code",
   "execution_count": 10,
   "id": "284ace22",
   "metadata": {},
   "outputs": [],
   "source": [
    "df.to_csv(\"labels.csv\")"
   ]
  }
 ],
 "metadata": {
  "kernelspec": {
   "display_name": "Python 3 (ipykernel)",
   "language": "python",
   "name": "python3"
  },
  "language_info": {
   "codemirror_mode": {
    "name": "ipython",
    "version": 3
   },
   "file_extension": ".py",
   "mimetype": "text/x-python",
   "name": "python",
   "nbconvert_exporter": "python",
   "pygments_lexer": "ipython3",
   "version": "3.9.13"
  },
  "vscode": {
   "interpreter": {
    "hash": "f0708fa9b2c25e3dbe3301dff8cd46ef3b97ba8a20f22b38ba35810833679b5a"
   }
  }
 },
 "nbformat": 4,
 "nbformat_minor": 5
}
