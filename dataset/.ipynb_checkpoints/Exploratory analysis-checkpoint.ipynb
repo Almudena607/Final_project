{
 "cells": [
  {
   "cell_type": "markdown",
   "id": "90487a21",
   "metadata": {},
   "source": [
    "# 1. Loading the dataset"
   ]
  },
  {
   "cell_type": "code",
   "execution_count": 12,
   "id": "923eecf5",
   "metadata": {},
   "outputs": [],
   "source": [
    "import os\n",
    "import glob\n",
    "import numpy as np\n",
    "import pandas as pd"
   ]
  },
  {
   "cell_type": "code",
   "execution_count": 8,
   "id": "33dfd752",
   "metadata": {},
   "outputs": [
    {
     "data": {
      "text/plain": [
       "'/home/almudenaramirez607/Final_project/dataset'"
      ]
     },
     "execution_count": 8,
     "metadata": {},
     "output_type": "execute_result"
    }
   ],
   "source": [
    "dataset_path =  os.path.abspath(\".\")\n",
    "dataset_path"
   ]
  },
  {
   "cell_type": "code",
   "execution_count": 14,
   "id": "fe6bdddc",
   "metadata": {},
   "outputs": [
    {
     "data": {
      "text/plain": [
       "array(['/home/almudenaramirez607/Final_project/dataset/test/d20_off-angle_0769.jpg',\n",
       "       '/home/almudenaramirez607/Final_project/dataset/test/d20_wood0090.jpg',\n",
       "       '/home/almudenaramirez607/Final_project/dataset/test/d20_wood0066.jpg',\n",
       "       '/home/almudenaramirez607/Final_project/dataset/test/d20_wood1005.jpg',\n",
       "       '/home/almudenaramirez607/Final_project/dataset/test/d20_off-angle_0745.jpg',\n",
       "       '/home/almudenaramirez607/Final_project/dataset/test/d20_color689.jpg',\n",
       "       '/home/almudenaramirez607/Final_project/dataset/test/d20_color329.jpg',\n",
       "       '/home/almudenaramirez607/Final_project/dataset/test/d20_off-angle_0601.jpg',\n",
       "       '/home/almudenaramirez607/Final_project/dataset/test/d20_off-angle_0113.jpg',\n",
       "       '/home/almudenaramirez607/Final_project/dataset/test/d20_off-angle_0401.jpg'],\n",
       "      dtype='<U80')"
      ]
     },
     "execution_count": 14,
     "metadata": {},
     "output_type": "execute_result"
    }
   ],
   "source": [
    "# looking for the images (they all are .jpg)\n",
    "globpath = f\"{dataset_path}/**/*.jpg\"\n",
    "\n",
    "# generation of an array with all the pictures\n",
    "pictures = np.hstack([np.array(glob.glob(globpath, recursive = True))])\n",
    "pictures[:10]"
   ]
  },
  {
   "cell_type": "markdown",
   "id": "1765b19b",
   "metadata": {},
   "source": [
    "# 2. Training "
   ]
  },
  {
   "cell_type": "markdown",
   "id": "0c3f513b",
   "metadata": {},
   "source": [
    "### 2.1. Normalization of the array"
   ]
  },
  {
   "cell_type": "code",
   "execution_count": null,
   "id": "b00b1d90",
   "metadata": {},
   "outputs": [],
   "source": [
    "def filename_analysis(filename):\n",
    "    x = filename.split(\"/\")\n",
    "    return {\n",
    "        \"ground_truth\": x[5],\n",
    "        \"type\": x[4],\n",
    "        \"file\": filename\n",
    "    }"
   ]
  },
  {
   "cell_type": "code",
   "execution_count": null,
   "id": "f71e90d9",
   "metadata": {},
   "outputs": [],
   "source": [
    "df = pd.DataFrame(list(map(filename_analysis, pictures)))"
   ]
  },
  {
   "cell_type": "code",
   "execution_count": null,
   "id": "6be9c436",
   "metadata": {},
   "outputs": [],
   "source": [
    "df"
   ]
  },
  {
   "cell_type": "markdown",
   "id": "4e9d1f3c",
   "metadata": {},
   "source": [
    "### 2.2. Generation of the ground truth"
   ]
  },
  {
   "cell_type": "code",
   "execution_count": null,
   "id": "5cd3ab51",
   "metadata": {},
   "outputs": [],
   "source": []
  }
 ],
 "metadata": {
  "kernelspec": {
   "display_name": "Python 3 (ipykernel)",
   "language": "python",
   "name": "python3"
  },
  "language_info": {
   "codemirror_mode": {
    "name": "ipython",
    "version": 3
   },
   "file_extension": ".py",
   "mimetype": "text/x-python",
   "name": "python",
   "nbconvert_exporter": "python",
   "pygments_lexer": "ipython3",
   "version": "3.9.13"
  }
 },
 "nbformat": 4,
 "nbformat_minor": 5
}
