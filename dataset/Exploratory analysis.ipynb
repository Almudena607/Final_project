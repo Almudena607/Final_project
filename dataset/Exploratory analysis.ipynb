{
 "cells": [
  {
   "cell_type": "markdown",
   "id": "9edab053",
   "metadata": {},
   "source": [
    "# 1. Loading the dataset"
   ]
  },
  {
   "cell_type": "code",
   "execution_count": 12,
   "id": "62e32998",
   "metadata": {},
   "outputs": [],
   "source": [
    "import os\n",
    "import glob\n",
    "import numpy as np\n",
    "import pandas as pd"
   ]
  },
  {
   "cell_type": "code",
   "execution_count": 8,
   "id": "a838a374",
   "metadata": {},
   "outputs": [
    {
     "data": {
      "text/plain": [
       "'/home/almudenaramirez607/Final_project/dataset'"
      ]
     },
     "execution_count": 8,
     "metadata": {},
     "output_type": "execute_result"
    }
   ],
   "source": [
    "dataset_path =  os.path.abspath(\".\")\n",
    "dataset_path"
   ]
  },
  {
   "cell_type": "code",
   "execution_count": 14,
   "id": "935b54f9",
   "metadata": {},
   "outputs": [
    {
     "data": {
      "text/plain": [
       "array(['/home/almudenaramirez607/Final_project/dataset/test/d20_off-angle_0769.jpg',\n",
       "       '/home/almudenaramirez607/Final_project/dataset/test/d20_wood0090.jpg',\n",
       "       '/home/almudenaramirez607/Final_project/dataset/test/d20_wood0066.jpg',\n",
       "       '/home/almudenaramirez607/Final_project/dataset/test/d20_wood1005.jpg',\n",
       "       '/home/almudenaramirez607/Final_project/dataset/test/d20_off-angle_0745.jpg',\n",
       "       '/home/almudenaramirez607/Final_project/dataset/test/d20_color689.jpg',\n",
       "       '/home/almudenaramirez607/Final_project/dataset/test/d20_color329.jpg',\n",
       "       '/home/almudenaramirez607/Final_project/dataset/test/d20_off-angle_0601.jpg',\n",
       "       '/home/almudenaramirez607/Final_project/dataset/test/d20_off-angle_0113.jpg',\n",
       "       '/home/almudenaramirez607/Final_project/dataset/test/d20_off-angle_0401.jpg'],\n",
       "      dtype='<U80')"
      ]
     },
     "execution_count": 14,
     "metadata": {},
     "output_type": "execute_result"
    }
   ],
   "source": [
    "# looking for the images (they all are .jpg)\n",
    "globpath = f\"{dataset_path}/**/*.jpg\"\n",
    "\n",
    "# generation of an array with all the pictures\n",
    "pictures = np.hstack([np.array(glob.glob(globpath, recursive = True))])\n",
    "pictures[:10]"
   ]
  },
  {
   "cell_type": "markdown",
   "id": "acd3a1ea",
   "metadata": {},
   "source": [
    "# 2. Training "
   ]
  },
  {
   "cell_type": "markdown",
   "id": "76eb62bc",
   "metadata": {},
   "source": [
    "### 2.1. Normalization of the array and generation of the ground truth"
   ]
  },
  {
   "cell_type": "code",
   "execution_count": null,
   "id": "5bf03cca",
   "metadata": {},
   "outputs": [],
   "source": [
    "def filename_analysis(filename):\n",
    "    x = filename.split(\"/\")\n",
    "    return {\n",
    "        \"ground_truth\": x[5],\n",
    "        \"type\": x[4],\n",
    "        \"file\": filename\n",
    "    }"
   ]
  },
  {
   "cell_type": "code",
   "execution_count": null,
   "id": "5bf057a1",
   "metadata": {},
   "outputs": [],
   "source": [
    "df = pd.DataFrame(list(map(filename_analysis, pictures)))"
   ]
  },
  {
   "cell_type": "code",
   "execution_count": null,
   "id": "17814683",
   "metadata": {},
   "outputs": [],
   "source": [
    "df"
   ]
  },
  {
   "cell_type": "markdown",
   "id": "2803f55a",
   "metadata": {},
   "source": [
    "### 2.2. Split"
   ]
  },
  {
   "cell_type": "code",
   "execution_count": null,
   "id": "9d9e36bd",
   "metadata": {},
   "outputs": [],
   "source": []
  }
 ],
 "metadata": {
  "kernelspec": {
   "display_name": "Python 3 (ipykernel)",
   "language": "python",
   "name": "python3"
  },
  "language_info": {
   "codemirror_mode": {
    "name": "ipython",
    "version": 3
   },
   "file_extension": ".py",
   "mimetype": "text/x-python",
   "name": "python",
   "nbconvert_exporter": "python",
   "pygments_lexer": "ipython3",
   "version": "3.9.13"
  }
 },
 "nbformat": 4,
 "nbformat_minor": 5
}
